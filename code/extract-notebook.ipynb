{
 "cells": [
  {
   "cell_type": "code",
   "execution_count": null,
   "metadata": {},
   "outputs": [],
   "source": [
    "import requests\n",
    "import json\n",
    "import pandas as pd\n",
    "from dotenv import load_dotenv\n",
    "import os\n",
    "from utils import save_data_to_json, save_dataframe_to_csv, save_campaigns_historical_data\n",
    "\n",
    "# Carrega as variáveis de ambiente do arquivo .env\n",
    "load_dotenv()"
   ]
  },
  {
   "cell_type": "code",
   "execution_count": null,
   "metadata": {},
   "outputs": [],
   "source": [
    "class GraphAPI:\n",
    "    def __init__(self, fb_api):\n",
    "        self.base_url = 'https://graph.facebook.com/v22.0/'\n",
    "        self.api_fields = ['spend', 'cpc', 'cpm', 'objective', 'adset_name',\n",
    "                           'adset_id', 'clicks', 'campaign_name', 'campaign_id',\n",
    "                           'conversions', 'frequency', 'conversion_values',\n",
    "                           'ad_name', 'ad_id']\n",
    "        self.token = '&access_token=' + fb_api\n",
    "\n",
    "\n",
    "    def get_insights(self, ad_acc, level='campaign'):\n",
    "        url = self.base_url + 'act_' + str(ad_acc)\n",
    "        url += '/insights?level=' + level\n",
    "        url += '&fields=' + ','.join(self.api_fields)\n",
    "\n",
    "        data = requests.get(url + self.token)\n",
    "        data = json.loads(data._content.decode('utf-8'))\n",
    "    \n",
    "\n",
    "        # conversion é uma list de dicionarios, essa etapa melhora um pouco a leitura\n",
    "        for i in data['data']:\n",
    "            if 'conversions' in i:\n",
    "                i['conversion'] = float(i['conversions'][0]['value'])\n",
    "\n",
    "        return data\n",
    "    \n",
    "\n",
    "    def get_campaigns_status(self, ad_acc):\n",
    "        '''\n",
    "        coleta informações de campanhas - não é possível pegar o status da campanha pela função anterior, precisou dessa adicional\n",
    "        '''\n",
    "        url = self.base_url + 'act_' + str(ad_acc)\n",
    "        url += '/campaigns?fields=name,status,adsets{name, id}'\n",
    "        data = requests.get(url + self.token)\n",
    "        data =  json.loads(data._content.decode('utf-8'))\n",
    "        return data\n",
    "\n",
    "\n",
    "    def get_adset_status(self, ad_acc):\n",
    "        '''\n",
    "        coleta informações do conjunto de ads\n",
    "        '''\n",
    "        url = self.base_url + 'act_' + str(ad_acc)\n",
    "        url += '/adsets?fields=name,status,id'\n",
    "        data = requests.get(url + self.token)\n",
    "        data =  json.loads(data._content.decode('utf-8'))\n",
    "        return data\n",
    "    \n",
    "\n",
    "    def get_data_over_time(self, campaign):\n",
    "        '''\n",
    "        criar histórico: ver como esses dados da campanha se comportaram ao longo do tempo       \n",
    "        '''\n",
    "        url = self.base_url + str(campaign)\n",
    "        url += '/insights?fields=' + ','.join(self.api_fields)\n",
    "        url += '&date_preset=last_30d&time_increment=1'\n",
    "\n",
    "        data = requests.get(url + self.token)\n",
    "        data = json.loads(data._content.decode('utf-8'))\n",
    "        for i in data['data']:\n",
    "            if 'conversions' in i:\n",
    "                i['conversion'] = float(i['conversions'][0]['value'])\n",
    "        return data"
   ]
  },
  {
   "cell_type": "code",
   "execution_count": null,
   "metadata": {},
   "outputs": [],
   "source": [
    "#if __name__ == '__main__':\n",
    "fb_api = os.getenv('AD_ACC_TOKEN')\n",
    "ad_acc = os.getenv('AD_ACC_ID')\n",
    "\n",
    "self = GraphAPI(fb_api)"
   ]
  },
  {
   "cell_type": "code",
   "execution_count": null,
   "metadata": {},
   "outputs": [],
   "source": [
    "insights = self.get_insights(ad_acc)\n",
    "insights"
   ]
  },
  {
   "cell_type": "code",
   "execution_count": null,
   "metadata": {},
   "outputs": [],
   "source": [
    "# Salvar o report de insights em json\n",
    "insights = self.get_insights(ad_acc)\n",
    "save_data_to_json(insights, 'insights')\n",
    "\n",
    "# Salvar o report de campaign status em json\n",
    "campaign_status = self.get_campaigns_status(ad_acc)\n",
    "save_data_to_json(campaign_status, 'campaign_status')\n",
    "\n",
    "# Salvar o report de adset status em json\n",
    "adset_status = self.get_adset_status(ad_acc)\n",
    "save_data_to_json(adset_status, 'adset_status')\n",
    "\n",
    "# Extrair todos os IDs das campanhas ATIVAS e salvar em csv\n",
    "campaign_ids = [campaign['id'] for campaign in campaign_status['data'] if campaign['status'] == 'ACTIVE']\n",
    "df_campaigns = save_campaigns_historical_data(self, campaign_ids)\n",
    "save_dataframe_to_csv(df_campaigns, 'campaigns_historical_data')"
   ]
  }
 ],
 "metadata": {
  "kernelspec": {
   "display_name": ".venv",
   "language": "python",
   "name": "python3"
  },
  "language_info": {
   "codemirror_mode": {
    "name": "ipython",
    "version": 3
   },
   "file_extension": ".py",
   "mimetype": "text/x-python",
   "name": "python",
   "nbconvert_exporter": "python",
   "pygments_lexer": "ipython3",
   "version": "3.12.3"
  }
 },
 "nbformat": 4,
 "nbformat_minor": 2
}
